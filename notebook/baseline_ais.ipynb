{
 "cells": [
  {
   "cell_type": "code",
   "execution_count": 1,
   "id": "continental-providence",
   "metadata": {},
   "outputs": [],
   "source": [
    "import os\n",
    "import numpy as np\n",
    "import pandas as pd\n",
    "import xgboost as xgb\n",
    "import lightgbm as lgb\n",
    "import matplotlib.pyplot as plt\n",
    "from sklearn import metrics\n",
    "from sklearn.model_selection import train_test_split"
   ]
  },
  {
   "cell_type": "code",
   "execution_count": 2,
   "id": "rotary-document",
   "metadata": {},
   "outputs": [],
   "source": [
    "def preprocess(df):\n",
    "    df[\"timestamp\"] = pd.to_datetime(df['timestamp'], unit='s')\n",
    "    df[\"year\"] = df[\"timestamp\"].dt.year\n",
    "    df[\"month\"] = df[\"timestamp\"].dt.month\n",
    "    df[\"day\"] = df[\"timestamp\"].dt.day\n",
    "    df[\"hour\"] = df[\"timestamp\"].dt.hour\n",
    "    df = df.drop(['timestamp', 'source'], axis=1)\n",
    "\n",
    "    df = df[df['is_fishing'] != -1]\n",
    "    df['is_fishing'] = df['is_fishing'] > 0.5\n",
    "    df[\"course\"] = df[\"course\"].apply(lambda x: x - 360 if x >= 360 else x)\n",
    "    return df"
   ]
  },
  {
   "cell_type": "code",
   "execution_count": 3,
   "id": "adverse-sponsorship",
   "metadata": {},
   "outputs": [],
   "source": [
    "def generate_mmsi_samples(df, target, test_size=0.2, random_seed=42):\n",
    "    np.random.seed(random_seed)\n",
    "    mmsi_list = df['mmsi'].unique()\n",
    "    test_num = int(len(mmsi_list) * test_size)\n",
    "    mmsi_test = np.random.choice(mmsi_list, size=test_num, replace=False)\n",
    "    df_test = df[df['mmsi'].isin(mmsi_test)].drop('mmsi', axis=1)\n",
    "    df_train = df[~df['mmsi'].isin(mmsi_test)].drop('mmsi', axis=1)\n",
    "    return df_train.drop(target, axis=1), df_test.drop(target, axis=1), df_train[target], df_test[target]"
   ]
  },
  {
   "cell_type": "code",
   "execution_count": 4,
   "id": "hungarian-watch",
   "metadata": {},
   "outputs": [],
   "source": [
    "def lgb_train(train, target):\n",
    "    data = lgb.Dataset(x_train, y_train)\n",
    "    params = {\n",
    "        'objective': 'binary',\n",
    "        'boosting_type': 'gbdt',\n",
    "        'max_depth': 5,\n",
    "        'num_leaves': 200,\n",
    "        'bagging_fraction': 0.9,\n",
    "        'colsample_bytree': 0.9,\n",
    "        'learning_rate': 0.03,\n",
    "        'verbose': -1\n",
    "    }\n",
    "    model = lgb.train(params, data, num_boost_round=300)\n",
    "    return model"
   ]
  },
  {
   "cell_type": "code",
   "execution_count": 5,
   "id": "quarterly-music",
   "metadata": {},
   "outputs": [],
   "source": [
    "def xgb_train(train, target):\n",
    "    params = {\n",
    "        'objective': 'binary:logistic',\n",
    "        'colsample_bytree': 0.8,\n",
    "        'colsample_bylevel': 0.8,\n",
    "        'eval_metric': 'aucpr',\n",
    "        'max_depth': 5,\n",
    "        'eta': 0.05,\n",
    "        'gamma': 0.1,\n",
    "        'lambda': 2,\n",
    "        'subsample': 0.8\n",
    "    }\n",
    "    data = xgb.DMatrix(train, target)\n",
    "    model = xgb.train(params, data, num_boost_round=200)\n",
    "    return model"
   ]
  },
  {
   "cell_type": "code",
   "execution_count": 6,
   "id": "married-sodium",
   "metadata": {},
   "outputs": [
    {
     "data": {
      "text/plain": [
       "((116866, 10), (60528, 10))"
      ]
     },
     "execution_count": 6,
     "metadata": {},
     "output_type": "execute_result"
    }
   ],
   "source": [
    "df = pd.read_csv(os.path.join('data', 'trawlers.csv'))\n",
    "df = preprocess(df)\n",
    "x_train, x_test, y_train, y_test = generate_mmsi_samples(df, target='is_fishing', test_size=0.2, random_seed=42)\n",
    "x_train.shape, x_test.shape"
   ]
  },
  {
   "cell_type": "markdown",
   "id": "pressed-circus",
   "metadata": {},
   "source": [
    "## LightGBM"
   ]
  },
  {
   "cell_type": "code",
   "execution_count": 7,
   "id": "threaded-sector",
   "metadata": {},
   "outputs": [],
   "source": [
    "model = lgb_train(x_train, y_train)"
   ]
  },
  {
   "cell_type": "code",
   "execution_count": 8,
   "id": "subjective-amplifier",
   "metadata": {},
   "outputs": [
    {
     "name": "stdout",
     "output_type": "stream",
     "text": [
      "auc: 0.9490949144751835\n",
      "f1 score: 0.8772061882217776\n",
      "precision : 0.853420697629601\n",
      "recall : 0.9023555301980601\n"
     ]
    }
   ],
   "source": [
    "y_pred = model.predict(x_test)\n",
    "\n",
    "fpr, tpr, thresholds = metrics.roc_curve(y_test, y_pred, pos_label=1)\n",
    "print(\"auc:\", metrics.auc(fpr, tpr))\n",
    "\n",
    "y_pred = y_pred.round(0)\n",
    "print(\"f1 score:\", metrics.f1_score(y_test, y_pred))\n",
    "print(\"precision :\", metrics.precision_score(y_test, y_pred))\n",
    "print(\"recall :\", metrics.recall_score(y_test, y_pred))"
   ]
  },
  {
   "cell_type": "code",
   "execution_count": 9,
   "id": "electrical-worst",
   "metadata": {
    "scrolled": false
   },
   "outputs": [
    {
     "data": {
      "image/png": "[encoded data removed]",
      "text/plain": [
       "<Figure size 432x288 with 1 Axes>"
      ]
     },
     "metadata": {},
     "output_type": "display_data"
    }
   ],
   "source": [
    "lgb.plot_importance(model)\n",
    "plt.show()"
   ]
  },
  {
   "cell_type": "markdown",
   "id": "controlling-extraction",
   "metadata": {},
   "source": [
    "## XGboost"
   ]
  },
  {
   "cell_type": "code",
   "execution_count": 10,
   "id": "blind-understanding",
   "metadata": {},
   "outputs": [],
   "source": [
    "model = xgb_train(x_train, y_train)"
   ]
  },
  {
   "cell_type": "code",
   "execution_count": 11,
   "id": "exposed-printer",
   "metadata": {},
   "outputs": [
    {
     "name": "stdout",
     "output_type": "stream",
     "text": [
      "auc: 0.9448080284706104\n",
      "f1 score: 0.8787855044074437\n",
      "precision : 0.8460697042848522\n",
      "recall : 0.914133181188361\n"
     ]
    }
   ],
   "source": [
    "dtest = xgb.DMatrix(x_test, y_test)\n",
    "\n",
    "y_pred = model.predict(dtest)\n",
    "\n",
    "fpr, tpr, thresholds = metrics.roc_curve(y_test, y_pred, pos_label=1)\n",
    "print(\"auc:\", metrics.auc(fpr, tpr))\n",
    "\n",
    "y_pred = y_pred.round(0)\n",
    "print(\"f1 score:\", metrics.f1_score(y_test, y_pred))\n",
    "print(\"precision :\", metrics.precision_score(y_test, y_pred))\n",
    "print(\"recall :\", metrics.recall_score(y_test, y_pred))"
   ]
  },
  {
   "cell_type": "code",
   "execution_count": 12,
   "id": "maritime-martial",
   "metadata": {},
   "outputs": [],
   "source": [
    "def xgb_plot_importance(model, save_as=None):\n",
    "    feature_names = list(model.get_score().keys())\n",
    "    feature_importance = list(model.get_score().values())\n",
    "    d = pd.DataFrame(data={'feature': feature_names, 'importance': feature_importance})\n",
    "    d = d.sort_values(by='importance', ascending=True)\n",
    "\n",
    "    d.plot.barh('feature', 'importance')\n",
    "    plt.title('Feature Importance')\n",
    "    plt.xlabel('Weight')\n",
    "    plt.ylabel('Features')\n",
    "    plt.grid()\n",
    "    if save_as:\n",
    "        plt.savefig(save_as, bbox_inches='tight')\n",
    "    plt.show()\n",
    "    return"
   ]
  },
  {
   "cell_type": "code",
   "execution_count": 13,
   "id": "historical-death",
   "metadata": {
    "scrolled": false
   },
   "outputs": [
    {
     "data": {
      "image/png": "[encoded data removed]",
      "text/plain": [
       "<Figure size 432x288 with 1 Axes>"
      ]
     },
     "metadata": {},
     "output_type": "display_data"
    }
   ],
   "source": [
    "xgb_plot_importance(model)"
   ]
  }
 ],
 "metadata": {
  "kernelspec": {
   "display_name": "Python 3",
   "language": "python",
   "name": "python3"
  },
  "language_info": {
   "codemirror_mode": {
    "name": "ipython",
    "version": 3
   },
   "file_extension": ".py",
   "mimetype": "text/x-python",
   "name": "python",
   "nbconvert_exporter": "python",
   "pygments_lexer": "ipython3",
   "version": "3.6.5"
  }
 },
 "nbformat": 4,
 "nbformat_minor": 5
}
