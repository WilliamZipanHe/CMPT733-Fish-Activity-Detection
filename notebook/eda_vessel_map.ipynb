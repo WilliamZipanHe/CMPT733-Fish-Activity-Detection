{
 "cells": [
  {
   "cell_type": "code",
   "execution_count": null,
   "metadata": {},
   "outputs": [],
   "source": [
    "import pandas as pd\n",
    "import numpy as np\n",
    "import plotly.graph_objects as go\n"
   ]
  },
  {
   "cell_type": "code",
   "execution_count": null,
   "metadata": {
    "scrolled": false
   },
   "outputs": [],
   "source": [
    "trawlers_df = pd.read_csv('trawlers.csv')\n",
    "trawlers_df = trawlers_df[trawlers_df['is_fishing'] >= 0]\n",
    "fig = go.Figure(go.Densitymapbox(lat=trawlers_df.lat, lon=trawlers_df.lon, z=trawlers_df.speed,\n",
    "                                 radius=2))\n",
    "fig.update_layout(mapbox_style=\"carto-darkmatter\", mapbox_center_lon=180)\n",
    "fig.update_layout(margin={\"r\":0,\"t\":0,\"l\":0,\"b\":0})\n",
    "fig.show()"
   ]
  },
  {
   "cell_type": "code",
   "execution_count": null,
   "metadata": {},
   "outputs": [],
   "source": [
    "troller_df = pd.read_csv('trollers.csv')\n",
    "troller_df = troller_df[troller_df['is_fishing'] >= 0]\n",
    "fig = go.Figure(go.Densitymapbox(lat=troller_df.lat, lon=troller_df.lon, z=troller_df.speed,\n",
    "                                 radius=2))\n",
    "fig.update_layout(mapbox_style=\"carto-darkmatter\", mapbox_center_lon=180)\n",
    "fig.update_layout(margin={\"r\":0,\"t\":0,\"l\":0,\"b\":0})\n",
    "fig.show()"
   ]
  },
  {
   "cell_type": "code",
   "execution_count": null,
   "metadata": {},
   "outputs": [],
   "source": [
    "purse_seines_df = pd.read_csv('purse_seines.csv')\n",
    "purse_seines_df = purse_seines_df[purse_seines_df['is_fishing'] >= 0]\n",
    "fig = go.Figure(go.Densitymapbox(lat=purse_seines_df.lat, lon=purse_seines_df.lon, z=purse_seines_df.speed,\n",
    "                                 radius=2))\n",
    "fig.update_layout(mapbox_style=\"carto-darkmatter\", mapbox_center_lon=180)\n",
    "fig.update_layout(margin={\"r\":0,\"t\":0,\"l\":0,\"b\":0})\n",
    "fig.show()"
   ]
  },
  {
   "cell_type": "code",
   "execution_count": null,
   "metadata": {},
   "outputs": [],
   "source": [
    "pole_and_line_df = pd.read_csv('pole_and_line.csv')\n",
    "pole_and_line_df = pole_and_line_df[pole_and_line_df['is_fishing'] >= 0]\n",
    "fig = go.Figure(go.Densitymapbox(lat=pole_and_line_df.lat, lon=pole_and_line_df.lon, z=pole_and_line_df.speed,\n",
    "                                 radius=2))\n",
    "fig.update_layout(mapbox_style=\"carto-darkmatter\", mapbox_center_lon=180)\n",
    "fig.update_layout(margin={\"r\":0,\"t\":0,\"l\":0,\"b\":0})\n",
    "fig.show()"
   ]
  },
  {
   "cell_type": "code",
   "execution_count": null,
   "metadata": {},
   "outputs": [],
   "source": [
    "fixed_gear_df = pd.read_csv('fixed_gear.csv')\n",
    "fixed_gear_df = fixed_gear_df[fixed_gear_df['is_fishing'] >= 0]\n",
    "fig = go.Figure(go.Densitymapbox(lat=fixed_gear_df.lat, lon=fixed_gear_df.lon, z=fixed_gear_df.speed,\n",
    "                                 radius=2))\n",
    "fig.update_layout(mapbox_style=\"carto-darkmatter\", mapbox_center_lon=180)\n",
    "fig.update_layout(margin={\"r\":0,\"t\":0,\"l\":0,\"b\":0})\n",
    "fig.show()"
   ]
  },
  {
   "cell_type": "code",
   "execution_count": null,
   "metadata": {},
   "outputs": [],
   "source": [
    "drifting_longlines_df = pd.read_csv('drifting_longlines.csv')\n",
    "drifting_longlines_df = drifting_longlines_df[drifting_longlines_df['is_fishing'] >= 0]\n",
    "fig = go.Figure(go.Densitymapbox(lat=drifting_longlines_df.lat, lon=drifting_longlines_df.lon, z=drifting_longlines_df.speed,\n",
    "                                 radius=2))\n",
    "fig.update_layout(mapbox_style=\"carto-darkmatter\", mapbox_center_lon=180)\n",
    "fig.update_layout(margin={\"r\":0,\"t\":0,\"l\":0,\"b\":0})\n",
    "fig.show()"
   ]
  },
  {
   "cell_type": "code",
   "execution_count": null,
   "metadata": {},
   "outputs": [],
   "source": [
    "fishing_vessel_list = [trawlers_df, troller_df, purse_seines_df, pole_and_line_df, fixed_gear_df, drifting_longlines_df]\n",
    "fishing_vessel_df = pd.concat(fishing_vessel_list)\n",
    "fig = go.Figure(go.Densitymapbox(lat=fishing_vessel_df.lat, lon=fishing_vessel_df.lon, z=fishing_vessel_df.speed,\n",
    "                                 radius=2))\n",
    "fig.update_layout(mapbox_style=\"carto-darkmatter\", mapbox_center_lon=180)\n",
    "fig.update_layout(margin={\"r\":0,\"t\":0,\"l\":0,\"b\":0})\n",
    "fig.show()"
   ]
  },
  {
   "cell_type": "code",
   "execution_count": null,
   "metadata": {},
   "outputs": [],
   "source": []
  }
 ],
 "metadata": {
  "kernelspec": {
   "display_name": "Python 3",
   "language": "python",
   "name": "python3"
  },
  "language_info": {
   "codemirror_mode": {
    "name": "ipython",
    "version": 3
   },
   "file_extension": ".py",
   "mimetype": "text/x-python",
   "name": "python",
   "nbconvert_exporter": "python",
   "pygments_lexer": "ipython3",
   "version": "3.8.3"
  }
 },
 "nbformat": 4,
 "nbformat_minor": 4
}
